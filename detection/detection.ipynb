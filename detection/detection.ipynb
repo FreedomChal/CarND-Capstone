{
 "cells": [
  {
   "cell_type": "code",
   "execution_count": 1,
   "metadata": {},
   "outputs": [],
   "source": [
    "import skimage\n",
    "import numpy as np\n",
    "from skimage import io, transform\n",
    "import os\n",
    "import shutil\n",
    "import glob\n",
    "import pandas as pd\n",
    "import xml.etree.ElementTree as ET\n",
    "import tensorflow as tf\n",
    "from collections import defaultdict\n",
    "from io import StringIO\n",
    "from matplotlib import pyplot as plt\n",
    "from PIL import Image\n",
    "import urllib.request\n",
    "import urllib.error\n",
    "\n",
    "%matplotlib inline"
   ]
  },
  {
   "cell_type": "code",
   "execution_count": 15,
   "metadata": {},
   "outputs": [
    {
     "name": "stdout",
     "output_type": "stream",
     "text": [
      "~/data\n"
     ]
    }
   ],
   "source": [
    "root = \"~/data\"\n",
    "\n",
    "dataset = [\"real\", \"sim\"]\n",
    "\n",
    "imagePath = os.path.join(root, 'images')\n",
    "labelsPath = os.path.join(root, 'labels')\n",
    "linksPath = os.path.join(imagePath, 'imageLinks')\n",
    "trainPath = os.path.join(imagePath, 'train')\n",
    "testPath = os.path.join(imagePath, 'test')\n",
    "\n",
    "print(root)"
   ]
  },
  {
   "cell_type": "code",
   "execution_count": 6,
   "metadata": {},
   "outputs": [],
   "source": [
    "# Modified From:\n",
    "# https://github.comr/datitran/raccoon_dataset/blob/master/xml_to_csv.py\n",
    "import os\n",
    "\n",
    "os.chdir(root)\n",
    "\n",
    "def xml_to_csv(path):\n",
    "    xml_list = []\n",
    "    for xml_file in glob.glob(path + '/*.xml'):\n",
    "        tree = ET.parse(xml_file)\n",
    "        root = tree.getroot()\n",
    "        for member in root.findall('object'):\n",
    "            value = (root.find('filename').text,\n",
    "                     int(root.find('size')[0].text),\n",
    "                     int(root.find('size')[1].text),\n",
    "                     member[0].text,\n",
    "                     int(member[4][0].text),\n",
    "                     int(member[4][1].text),\n",
    "                     int(member[4][2].text),\n",
    "                     int(member[4][3].text)\n",
    "                     )\n",
    "            xml_list.append(value)\n",
    "    column_name = ['filename', 'width', 'height', 'class', 'xmin', 'ymin', 'xmax', 'ymax']\n",
    "    xml_df = pd.DataFrame(xml_list, columns=column_name)\n",
    "    return xml_df\n",
    "\n",
    "for i in [os.path.join(root, 'train')]:\n",
    "    image_path = i\n",
    "    folder = os.path.basename(os.path.normpath(i))\n",
    "    xml_df = xml_to_csv(image_path)\n",
    "    \n",
    "    from sklearn.model_selection import train_test_split\n",
    "    \n",
    "    train, test = train_test_split(xml_df, test_size=0.2)\n",
    "    train.to_csv('data/train.csv', index=None)\n",
    "    test.to_csv('data/test.csv', index=None)"
   ]
  },
  {
   "cell_type": "code",
   "execution_count": 7,
   "metadata": {},
   "outputs": [
    {
     "name": "stdout",
     "output_type": "stream",
     "text": [
      "/home/bibagimon/CarND-Capstone/detection\r\n"
     ]
    }
   ],
   "source": [
    "!pwd"
   ]
  },
  {
   "cell_type": "code",
   "execution_count": 12,
   "metadata": {},
   "outputs": [
    {
     "name": "stdout",
     "output_type": "stream",
     "text": [
      ".:\r\n",
      "total 36\r\n",
      "drwxrwxr-x 2 bibagimon bibagimon 4096  4月 13 15:27 data\r\n",
      "-rw-rw-r-- 1 bibagimon bibagimon 5330  4月 13 15:27 detection.ipynb\r\n",
      "-rw-rw-r-- 1 bibagimon bibagimon   98  4月 10 22:46 docker-compose.yml\r\n",
      "-rw-rw-r-- 1 bibagimon bibagimon 1110  4月 13 09:49 Dockerfile\r\n",
      "-rw-rw-r-- 1 bibagimon bibagimon 3037  4月 13 15:18 generate_tf_record.py\r\n",
      "-rw-rw-r-- 1 bibagimon bibagimon  184  4月 13 10:03 requirements.txt\r\n",
      "-rw-rw-r-- 1 bibagimon bibagimon  209  4月 13 10:18 run-docker-container.sh\r\n",
      "drwxrwxr-x 2 bibagimon bibagimon 4096  4月 13 09:41 training\r\n",
      "\r\n",
      "./data:\r\n",
      "total 8\r\n",
      "-rw-rw-r-- 1 bibagimon bibagimon 48  4月 13 15:26 test.csv\r\n",
      "-rw-rw-r-- 1 bibagimon bibagimon  0  4月 13 15:24 test.record\r\n",
      "-rw-rw-r-- 1 bibagimon bibagimon 48  4月 13 15:26 train.csv\r\n",
      "-rw-rw-r-- 1 bibagimon bibagimon  0  4月 13 15:24 train.record\r\n",
      "\r\n",
      "./training:\r\n",
      "total 24\r\n",
      "-rw-rw-r-- 1 bibagimon bibagimon  246  4月 13 05:41 create-tf-record.sh\r\n",
      "-rw-rw-r-- 1 bibagimon bibagimon 3714  4月 13 06:16 faster_rnn_resnet101.config\r\n",
      "-rw-rw-r-- 1 bibagimon bibagimon  234  4月 13 09:43 run-training.sh\r\n",
      "-rw-rw-r-- 1 bibagimon bibagimon 6696  4月 10 22:29 tf_record_gen.py\r\n",
      "-rw-rw-r-- 1 bibagimon bibagimon   94  4月 10 22:25 tl_label_map.pbtxt\r\n"
     ]
    }
   ],
   "source": [
    "!ls -lR"
   ]
  },
  {
   "cell_type": "code",
   "execution_count": null,
   "metadata": {},
   "outputs": [],
   "source": []
  }
 ],
 "metadata": {
  "kernelspec": {
   "display_name": "Python 3",
   "language": "python",
   "name": "python3"
  },
  "language_info": {
   "codemirror_mode": {
    "name": "ipython",
    "version": 3
   },
   "file_extension": ".py",
   "mimetype": "text/x-python",
   "name": "python",
   "nbconvert_exporter": "python",
   "pygments_lexer": "ipython3",
   "version": "3.5.6"
  }
 },
 "nbformat": 4,
 "nbformat_minor": 2
}
